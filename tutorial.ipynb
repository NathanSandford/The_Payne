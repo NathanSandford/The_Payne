{
 "cells": [
  {
   "cell_type": "markdown",
   "metadata": {},
   "source": [
    "** This file gives a brief overview of the capabilities of the code. **\n",
    "\n",
    "* If you want to predict the spectrum of a single star with particular labels, you'll want the \"spectral_model\" package.\n",
    "* If you want to fit an observed spectrum, see the \"fitting\" package.\n",
    "* Downloading and processing APOGEE spectra is handled by the \"process_spectra\" package.\n",
    "* The \"utils\" package contains some general-purpose functions used by the other packages.\n",
    "* If you want to get under the hood and train your own models, there some functions in the train_NNs/ directory to get you started.\n",
    "\n",
    "Many of the functions require you to pass them a particular neural network (really, a list of biases and weights parameterizing the network), so we read in the networks we'll be using at the beginning and then pass them to various functions as we go. This is a bit cumbersome, but the advantage is that if you train a new network (with architechture compatible with the existing code) you can just pass it to the relevant functions without having to rewrite everything."
   ]
  },
  {
   "cell_type": "code",
   "execution_count": 1,
   "metadata": {},
   "outputs": [],
   "source": [
    "from __future__ import absolute_import, division, print_function # Python2 compatibility\n",
    "import numpy as np\n",
    "import matplotlib.pyplot as plt\n",
    "%matplotlib inline \n",
    "\n",
    "import utils\n",
    "import spectral_model\n",
    "import fitting\n",
    "\n",
    "# read in the standard wavelength grid onto which we interpolate spectra.\n",
    "wavelength = utils.load_wavelength_array()\n",
    "\n",
    "# read in the neural networks we'll need. \n",
    "NN_coeffs = utils.read_in_neural_network()\n",
    "w_array_0, w_array_1, w_array_2, b_array_0, b_array_1, b_array_2, x_min, x_max = NN_coeffs"
   ]
  },
  {
   "cell_type": "markdown",
   "metadata": {},
   "source": [
    "Let's use the data-driven spectral model to predict the APOGEE-like spectrum of a single star similar to the Sun."
   ]
  },
  {
   "cell_type": "code",
   "execution_count": 7,
   "metadata": {},
   "outputs": [
    {
     "name": "stdout",
     "output_type": "stream",
     "text": [
      "(26,)\n"
     ]
    },
    {
     "data": {
      "text/plain": [
       "(0.7, 1.05)"
      ]
     },
     "execution_count": 7,
     "metadata": {},
     "output_type": "execute_result"
    },
    {
     "data": {
      "image/png": "[encoded data removed]",
      "text/plain": [
       "<matplotlib.figure.Figure at 0x104e4e5f8>"
      ]
     },
     "metadata": {},
     "output_type": "display_data"
    }
   ],
   "source": [
    "spec_err = 1e-2*np.ones(len(wavelength))\n",
    "\n",
    "# for a single-star model, the format of \"labels\" is [Teff, Logg, Vturb [km/s],\n",
    "#              [C/H], [N/H], [O/H], [Na/H], [Mg/H],\\\n",
    "#              [Al/H], [Si/H], [P/H], [S/H], [K/H],\\\n",
    "#              [Ca/H], [Ti/H], [V/H], [Cr/H], [Mn/H],\\\n",
    "#              [Fe/H], [Co/H], [Ni/H], [Cu/H], [Ge/H],\\\n",
    "#              C12/C13, Vmacro [km/s], radial velocity\n",
    "real_labels = scaled_labels = [5770, 4.44, 1.0,\\\n",
    "                               0., 0., 0., 0., 0.,\\\n",
    "                               0., 0., 0., 0., 0.,\\\n",
    "                               0., 0., 0., 0., 0.,\\\n",
    "                               0., 0., 0., 0., 0.,\\\n",
    "                               90., 6., 10.] # assuming RV = 10 km/s. \n",
    "\n",
    "# scale the labels (except for RV) as it was done when training the network\n",
    "scaled_labels[:-1] = (real_labels[:-1]-x_min)/(x_max-x_min) - 0.5\n",
    "print(np.array(scaled_labels).shape)\n",
    "\n",
    "real_spec = spectral_model.get_spectrum_from_neural_net(scaled_labels = scaled_labels[:-1], \n",
    "                NN_coeffs = NN_coeffs)\n",
    "\n",
    "# zoom in on a small region of the spectrum so we can see what's going on.\n",
    "lambda_min, lambda_max = 16000, 16100# for plotting \n",
    "m = (wavelength < lambda_max) & (wavelength > lambda_min)\n",
    "plt.figure(figsize=(14, 4))\n",
    "plt.plot(wavelength[m], real_spec[m], 'k', lw=0.5)\n",
    "plt.xlim(lambda_min, lambda_max)\n",
    "plt.ylim(0.7, 1.05)"
   ]
  },
  {
   "cell_type": "markdown",
   "metadata": {},
   "source": [
    "Now let's add some noise to this model spectrum, and then fit it to see if we can recover the labels we put in. "
   ]
  },
  {
   "cell_type": "code",
   "execution_count": null,
   "metadata": {},
   "outputs": [],
   "source": [
    "data_spec = real_spec + 0.01*np.random.randn(len(real_spec))\n",
    "\n",
    "popt, pcov, model_spec = fitting.fit_normalized_spectrum_single_star_model(norm_spec = data_spec, \n",
    "        spec_err = spec_err, NN_coeffs_norm = NN_coeffs_norm, NN_coeffs_flux = NN_coeffs_flux, \n",
    "        p0 = None, num_p0 = 1)\n",
    "\n",
    "plt.figure(figsize=(14, 4))\n",
    "m = (wavelength < lambda_max) & (wavelength > lambda_min)\n",
    "plt.plot(wavelength[m], data_spec[m], 'k', lw=0.5, label = '\"data\" spec')\n",
    "plt.plot(wavelength[m], model_spec[m], 'r--', lw=0.5, label = 'best-fit model')\n",
    "plt.xlim(lambda_min, lambda_max)\n",
    "plt.legend(loc = 'best', frameon = False, fontsize = 18)"
   ]
  },
  {
   "cell_type": "code",
   "execution_count": null,
   "metadata": {},
   "outputs": [],
   "source": [
    "# verify that our best-fit labels are close to what we put in. \n",
    "print(popt)"
   ]
  },
  {
   "cell_type": "markdown",
   "metadata": {},
   "source": [
    "Now let's predict the spectrum of an unresolved binary. "
   ]
  },
  {
   "cell_type": "code",
   "execution_count": null,
   "metadata": {},
   "outputs": [],
   "source": [
    "# predict a binary spec\n",
    "# for a binary, the labels are [Teff1, logg1, [Fe/H], [Mg/Fe], v_macro1, v_macro2, v_los1, v_los2]\n",
    "real_bin_labels = [5800, 4.44, 0, 0, 0.7, 2, 5, -10, 10]\n",
    "specerr = 1e-2*np.ones(len(wavelength))\n",
    "real_bin_spec = spectral_model.get_normalized_spectrum_binary(labels = real_bin_labels, \n",
    "                NN_coeffs_norm = NN_coeffs_norm, NN_coeffs_flux = NN_coeffs_flux, \n",
    "                NN_coeffs_R = NN_coeffs_R, NN_coeffs_Teff2_logg2 = NN_coeffs_Teff2_logg2,\n",
    "                spec_err = specerr)\n",
    "\n",
    "plt.figure(figsize=(14, 4))\n",
    "m = (wavelength < lambda_max) & (wavelength > lambda_min)\n",
    "plt.plot(wavelength[m], real_bin_spec[m], 'k', lw=0.5)\n",
    "plt.xlim(lambda_min, lambda_max)\n",
    "plt.ylim(0.75, 1.05)"
   ]
  },
  {
   "cell_type": "markdown",
   "metadata": {},
   "source": [
    "Again, let's add some noise and then fit the spectrum. We'll fit it with both a single-star model and a binary model, and then compare the fits. \n",
    "\n",
    "Notice that we always pass the fitting function an arguement \"num_p0\". This determines how many different \"walkers\" to initialize for the optimizer, to minimize the chance of it's converging on a local mininimum. For a simple single-star model, there's little danger of this happening, but it's more likely for more complicated models with more labels. \n",
    "\n",
    "How long the code takes to run scales linearly with the number of walkers."
   ]
  },
  {
   "cell_type": "code",
   "execution_count": null,
   "metadata": {},
   "outputs": [],
   "source": [
    "data_bin_spec = real_bin_spec + 0.01*np.random.randn(len(real_bin_spec))\n",
    "\n",
    "# fit single-star model\n",
    "popt_single, pcov, single_spec = fitting.fit_normalized_spectrum_single_star_model(norm_spec = real_bin_spec, \n",
    "        spec_err = specerr, NN_coeffs_norm = NN_coeffs_norm, NN_coeffs_flux = NN_coeffs_flux, \n",
    "        p0 = None, num_p0 = 1)\n",
    "\n",
    "# fit binary model. \n",
    "# use the best-fit single-star model (\"popt_single\") as a starting guess. \n",
    "popt_binary, pcov, bin_spec = fitting.fit_normalized_spectrum_binary_model(norm_spec = real_bin_spec, \n",
    "        spec_err = specerr, NN_coeffs_norm = NN_coeffs_norm, NN_coeffs_flux = NN_coeffs_flux, \n",
    "        NN_coeffs_R = NN_coeffs_R, NN_coeffs_Teff2_logg2 = NN_coeffs_Teff2_logg2,\n",
    "        p0_single = popt_single, num_p0 = 10)\n",
    "\n",
    "\n",
    "plt.figure(figsize=(14, 4))\n",
    "m = (wavelength < lambda_max) & (wavelength > lambda_min)\n",
    "plt.plot(wavelength[m], data_bin_spec[m], 'k', lw=0.5, label = '\"data\" spec')\n",
    "plt.plot(wavelength[m], single_spec[m], 'r', lw=0.5, label = 'single-star model')\n",
    "plt.plot(wavelength[m], bin_spec[m], 'b', lw=0.5, label = 'binary model')\n",
    "plt.xlim(lambda_min, lambda_max)\n",
    "plt.legend(loc = 'best', frameon = False, fontsize= 18)"
   ]
  },
  {
   "cell_type": "code",
   "execution_count": null,
   "metadata": {},
   "outputs": [],
   "source": [
    "# unsurprisingly, the single-star model isn't a very good fit, but the binary model is. \n",
    "# verify that our best-fit labels are close to what we put in. \n",
    "print(popt_binary)"
   ]
  },
  {
   "cell_type": "markdown",
   "metadata": {},
   "source": [
    "Now that we've seen how to generate and fit model spectra, let's download an actual APOGEE spectrum. Here we'll download a \"combined\" spectrum. \n",
    "\n",
    "We'll start with a target that is likely a binary, but is not an \"obvious\" one. I.e., there's no large velocity offset. \n",
    "\n",
    "Note: downloading the spectra requires you to have Jo Bovy's Apogee package installed."
   ]
  },
  {
   "cell_type": "code",
   "execution_count": null,
   "metadata": {},
   "outputs": [],
   "source": [
    "import process_spectra\n",
    "apogee_id = b'2M18513961+4338099'\n",
    "spec, spec_err = process_spectra.get_combined_spectrum_single_object(apogee_id = apogee_id, \n",
    "                    catalog = None, save_local = False)\n",
    "\n",
    "plt.figure(figsize=(14, 4))\n",
    "m = (spec_err < 0.1) & (wavelength < lambda_max) & (wavelength > lambda_min)\n",
    " # mask low SNR pixels\n",
    "plt.plot(wavelength[m], spec[m], 'k', lw=0.5)\n",
    "plt.ylim(0.75, 1.05)\n",
    "plt.xlim(lambda_min, lambda_max)"
   ]
  },
  {
   "cell_type": "markdown",
   "metadata": {},
   "source": [
    "Now let's fit this spectrum with a single-star model and a binary model!"
   ]
  },
  {
   "cell_type": "code",
   "execution_count": null,
   "metadata": {},
   "outputs": [],
   "source": [
    "# fit single-star model\n",
    "popt_single, pcov, single_spec = fitting.fit_normalized_spectrum_single_star_model(norm_spec = spec, \n",
    "        spec_err = spec_err, NN_coeffs_norm = NN_coeffs_norm, NN_coeffs_flux = NN_coeffs_flux, \n",
    "        p0 = None, num_p0 = 1)\n",
    "\n",
    "# fit binary model. \n",
    "popt_binary, pcov, bin_spec = fitting.fit_normalized_spectrum_binary_model(norm_spec = spec, \n",
    "        spec_err = spec_err, NN_coeffs_norm = NN_coeffs_norm, NN_coeffs_flux = NN_coeffs_flux, \n",
    "        NN_coeffs_R = NN_coeffs_R, NN_coeffs_Teff2_logg2 = NN_coeffs_Teff2_logg2,\n",
    "        p0_single = popt_single, num_p0 = 10)\n",
    "\n",
    "\n",
    "plt.figure(figsize=(14, 4))\n",
    "plt.plot(wavelength[m], spec[m], 'k', lw=0.5, label = 'APOGEE spectrum')\n",
    "plt.plot(wavelength[m], single_spec[m], 'r', lw=0.5, label = 'single-star model')\n",
    "plt.plot(wavelength[m], bin_spec[m], 'b', lw=0.5, label = 'binary model')\n",
    "plt.xlim(lambda_min, lambda_max)\n",
    "plt.ylim(0.7, 1.1)\n",
    "plt.legend(loc = 'best', frameon = False, fontsize= 18)"
   ]
  },
  {
   "cell_type": "markdown",
   "metadata": {},
   "source": [
    "The binary model looks like a better fit, though the differences are sublte. You can change the axis limits to zoom in on particular lines or explore other parts of the spectrum. \n",
    "\n",
    "Let's compare the $\\chi^2$ of the single and binary model. "
   ]
  },
  {
   "cell_type": "code",
   "execution_count": null,
   "metadata": {},
   "outputs": [],
   "source": [
    "chi2_diff = utils.get_chi2_difference(norm_spec=spec, spec_err=spec_err, \n",
    "                norm_model_A = single_spec, norm_model_B = bin_spec)\n",
    "print(chi2_diff)"
   ]
  },
  {
   "cell_type": "markdown",
   "metadata": {},
   "source": [
    "Now that we've fit a not-obvious binary (one with a small velocity offset), let's look at one with a bigger velocity offset between the two stars. We'll download the spectrum and fit it in one go. "
   ]
  },
  {
   "cell_type": "code",
   "execution_count": null,
   "metadata": {},
   "outputs": [],
   "source": [
    "apogee_id = b'2M13080617+1753494'\n",
    "spec, spec_err = process_spectra.get_combined_spectrum_single_object(apogee_id = apogee_id, \n",
    "                    catalog = None, save_local = False)\n",
    "\n",
    "# fit single-star model\n",
    "popt_single, pcov, single_spec = fitting.fit_normalized_spectrum_single_star_model(norm_spec = spec, \n",
    "        spec_err = spec_err, NN_coeffs_norm = NN_coeffs_norm, NN_coeffs_flux = NN_coeffs_flux, \n",
    "        p0 = None, num_p0 = 1)\n",
    "\n",
    "# fit binary model. \n",
    "popt_binary, pcov, bin_spec = fitting.fit_normalized_spectrum_binary_model(norm_spec = spec, \n",
    "        spec_err = spec_err, NN_coeffs_norm = NN_coeffs_norm, NN_coeffs_flux = NN_coeffs_flux, \n",
    "        NN_coeffs_R = NN_coeffs_R, NN_coeffs_Teff2_logg2 = NN_coeffs_Teff2_logg2,\n",
    "        p0_single = popt_single, num_p0 = 10)\n",
    "\n",
    "m = (spec_err < 0.1) & (wavelength < lambda_max) & (wavelength > lambda_min)\n",
    "plt.figure(figsize=(14, 4))\n",
    "plt.plot(wavelength[m], spec[m], 'k', lw=0.5, label = 'APOGEE spectrum')\n",
    "plt.plot(wavelength[m], single_spec[m], 'r', lw=0.5, label = 'single-star model')\n",
    "plt.plot(wavelength[m], bin_spec[m], 'b', lw=0.5, label = 'binary model')\n",
    "plt.xlim(16000, 16100)\n",
    "plt.ylim(0.7, 1.1)\n",
    "plt.legend(loc = 'best', frameon = False, fontsize= 18)"
   ]
  },
  {
   "cell_type": "markdown",
   "metadata": {},
   "source": [
    "Here, the differences between the best-fit binary and single-star models are more obvious. Since the velocity offset between the two stars in the best-fit binary model appears non-neglible, we should fit the spectra from individual visits, in case the spectrum changes significantly from one visit to the next.\n",
    "\n",
    "Let's download and plot the spectra from each visit. "
   ]
  },
  {
   "cell_type": "code",
   "execution_count": null,
   "metadata": {},
   "outputs": [],
   "source": [
    "all_specs, all_err, all_snr, all_hjd, all_vhelio = \\\n",
    "    process_spectra.download_visit_spectra_single_object_and_renormalize(\n",
    "        apogee_id = apogee_id, p0_single_combined = popt_single, \n",
    "        NN_coeffs_norm = NN_coeffs_norm, NN_coeffs_flux = NN_coeffs_flux,\n",
    "        allvisit_cat = None, snr_min = 30)\n",
    "\n",
    "plt.figure(figsize=(14, 4))\n",
    "for i, spec in enumerate(all_specs):\n",
    "    m = (all_err[i] < 0.1) & (wavelength < lambda_max) & (wavelength > lambda_min)\n",
    "    plt.plot(wavelength[m], spec[m] + 0.2*i, 'k', lw=0.5)\n",
    "plt.xlim(lambda_min, lambda_max)\n",
    "plt.ylim(0.7, 1.6)"
   ]
  },
  {
   "cell_type": "markdown",
   "metadata": {},
   "source": [
    "Yup, the spectrum definitely looks like it's changing significantly from one visit to the next (most significantly, from the first (bottom) spectrum to the second). Let's fit these visit spectra simultaneously using an SB2 model. "
   ]
  },
  {
   "cell_type": "code",
   "execution_count": null,
   "metadata": {},
   "outputs": [],
   "source": [
    "sb2_labels, pcov, sb2_models = fitting.fit_visit_spectra_sb2_model(\n",
    "        norm_spectra = all_specs, spec_errs = all_err,\n",
    "        NN_coeffs_norm = NN_coeffs_norm, NN_coeffs_flux = NN_coeffs_flux, \n",
    "        NN_coeffs_R = NN_coeffs_R, NN_coeffs_Teff2_logg2 = NN_coeffs_Teff2_logg2,\n",
    "        v_helios = all_vhelio, p0_combined = popt_binary, num_p0 = 5)\n",
    "\n",
    "plt.figure(figsize=(14, 4))\n",
    "for i, spec in enumerate(all_specs):\n",
    "    m = (all_err[i] < 0.1) & (wavelength < lambda_max) & (wavelength > lambda_min)\n",
    "    if i == 0: data_label, model_label = 'data', 'SB2 model'\n",
    "    else: data_label, model_label = None, None\n",
    "    plt.plot(wavelength[m], spec[m] + 0.2*i, 'k', lw=0.5, label = data_label)\n",
    "    plt.plot(wavelength[m], sb2_models[i][m] + 0.2*i, 'r', lw=0.5, label = model_label)\n",
    "\n",
    "plt.xlim(lambda_min, lambda_max)\n",
    "plt.ylim(0.7, 1.6)\n",
    "plt.legend(loc = 'upper left', frameon = False, ncol = 2, fontsize = 18)"
   ]
  },
  {
   "cell_type": "markdown",
   "metadata": {},
   "source": [
    "Looks like a good fit. Let's see what the best-fit labels are. The format of the label vector returned for an SB2 model is format is [Teff1, logg1, [Fe/H], [Mg/Fe], q_spec, v_macro1, v_macro2, q_dyn, gamma, dv1_i],\n",
    "where i = 1...N_visits and dv_i is the velocity of the primary at each visit. \n",
    "\n",
    "If you aren't sure what the labels for a particular model are, you can check in spectral_model.py"
   ]
  },
  {
   "cell_type": "code",
   "execution_count": null,
   "metadata": {},
   "outputs": [],
   "source": [
    "print(sb2_labels)"
   ]
  },
  {
   "cell_type": "markdown",
   "metadata": {},
   "source": [
    "We note that q_spec and q_dyn are both about 0.83. That's good. \n",
    "\n",
    "Finally, let's try fitting an SB1. First, we'll download and fit the combined spectrum.\n"
   ]
  },
  {
   "cell_type": "code",
   "execution_count": null,
   "metadata": {},
   "outputs": [],
   "source": [
    "apogee_id = b'2M13381097+5620250'\n",
    "spec, spec_err = process_spectra.get_combined_spectrum_single_object(apogee_id = apogee_id, \n",
    "                    catalog = None, save_local = False)\n",
    "\n",
    "# fit single-star model\n",
    "popt_single, pcov, single_spec = fitting.fit_normalized_spectrum_single_star_model(norm_spec = spec, \n",
    "        spec_err = spec_err, NN_coeffs_norm = NN_coeffs_norm, NN_coeffs_flux = NN_coeffs_flux, \n",
    "        p0 = None, num_p0 = 1)\n",
    "\n",
    "# fit binary model. \n",
    "popt_binary, pcov, bin_spec = fitting.fit_normalized_spectrum_binary_model(norm_spec = spec, \n",
    "        spec_err = spec_err, NN_coeffs_norm = NN_coeffs_norm, NN_coeffs_flux = NN_coeffs_flux, \n",
    "        NN_coeffs_R = NN_coeffs_R, NN_coeffs_Teff2_logg2 = NN_coeffs_Teff2_logg2,\n",
    "        p0_single = popt_single, num_p0 = 10)\n",
    "\n",
    "m = (spec_err < 0.1) & (wavelength < lambda_max) & (wavelength > lambda_min)\n",
    "plt.figure(figsize=(14, 4))\n",
    "plt.plot(wavelength[m], spec[m], 'k', lw=0.5, label = 'APOGEE spectrum')\n",
    "plt.plot(wavelength[m], single_spec[m], 'r', lw=0.5, label = 'single-star model')\n",
    "plt.plot(wavelength[m], bin_spec[m], 'b', lw=0.5, label = 'binary model')\n",
    "plt.xlim(lambda_min, lambda_max)\n",
    "plt.ylim(0.7, 1.1)\n",
    "plt.legend(loc = 'best', frameon = False, fontsize= 18)\n"
   ]
  },
  {
   "cell_type": "code",
   "execution_count": null,
   "metadata": {},
   "outputs": [],
   "source": [
    "chi2_diff = utils.get_chi2_difference(norm_spec=spec, spec_err=spec_err, \n",
    "                norm_model_A = single_spec, norm_model_B = bin_spec)\n",
    "print(chi2_diff)"
   ]
  },
  {
   "cell_type": "markdown",
   "metadata": {},
   "source": [
    "Hmmm, for this target, the binary model fit is not obviously better, and the $\\chi^2$ difference for the combined spectrum is very small (small enough that it wouldn't pass our model selection criteria to consider it a reliable binary). \n",
    "\n",
    "However, if we look at the APOGEE-supplied v_helios, we'll find that this target is RV variable. \n",
    "\n",
    "Therefore, we'll download the individual-visit spectra, and we'll try fitting them with both an SB1 model and a genuine single-star model. "
   ]
  },
  {
   "cell_type": "code",
   "execution_count": null,
   "metadata": {},
   "outputs": [],
   "source": [
    "# get the visit spectra\n",
    "all_specs, all_err, all_snr, all_hjd, all_vhelio = \\\n",
    "    process_spectra.download_visit_spectra_single_object_and_renormalize(\n",
    "        apogee_id = apogee_id, p0_single_combined = popt_single, \n",
    "        NN_coeffs_norm = NN_coeffs_norm, NN_coeffs_flux = NN_coeffs_flux,\n",
    "        allvisit_cat = None, snr_min = 30)\n",
    "\n",
    "# fit them with a single-star model\n",
    "single_labels, pcov, single_models = fitting.fit_visit_spectra_single_star_model(\n",
    "        norm_spectra = all_specs, spec_errs = all_err, NN_coeffs_norm = NN_coeffs_norm,\n",
    "        NN_coeffs_flux = NN_coeffs_flux, v_helios = all_vhelio, p0 = popt_single, num_p0 = 1)\n",
    "\n",
    "# fit them with an SB1 model\n",
    "sb1_labels, pcov, sb1_models = fitting.fit_visit_spectra_sb1_model(\n",
    "        norm_spectra = all_specs, spec_errs = all_err, NN_coeffs_norm = NN_coeffs_norm, \n",
    "        NN_coeffs_flux = NN_coeffs_flux, v_helios = all_vhelio, p0 = popt_single, num_p0 = 5)\n",
    "\n",
    "plt.figure(figsize=(14, 4))\n",
    "for i, spec in enumerate(all_specs):\n",
    "    m = (all_err[i] < 0.1) & (wavelength < lambda_max) & (wavelength > lambda_min)\n",
    "    if i == 0: data_label, sb1_label, single_label = 'data', 'SB1 model', 'single-star model'\n",
    "    else: data_label, sb1_label, single_label = None, None, None\n",
    "\n",
    "    plt.plot(wavelength[m], spec[m] + 0.2*i, 'k', lw=0.5, label = data_label)\n",
    "    plt.plot(wavelength[m], single_models[i][m] + 0.2*i, 'r', lw=0.5, label = single_label)\n",
    "    plt.plot(wavelength[m], sb1_models[i][m] + 0.2*i, 'b', lw=0.5, label = sb1_label)\n",
    "plt.xlim(lambda_min, lambda_max)\n",
    "plt.ylim(0.75, 1.6)\n",
    "plt.legend(loc = 'upper left', frameon = False, ncol = 3, fontsize = 18)"
   ]
  },
  {
   "cell_type": "markdown",
   "metadata": {},
   "source": [
    "It's pretty clear that the spectrum is changing from one visit to the next, so the single-star model (which requires constant v_helio across visits) won't be able to get a good fit. But the SB1 model does achieve a good fit, and if you tried an SB2 model, you'd find that it couldn't do any better. \n",
    "\n",
    "Let's look at the labels of the best-fit SB1 model, which are in the format [Teff, logg, [Fe/H], [Mg/Fe], v_macro, dv_i], where i = 1..N_visits is the velocity at each visit. "
   ]
  },
  {
   "cell_type": "code",
   "execution_count": null,
   "metadata": {},
   "outputs": [],
   "source": [
    "print(sb1_labels)"
   ]
  },
  {
   "cell_type": "markdown",
   "metadata": {},
   "source": [
    "**One practical note:**\n",
    "\n",
    "Fitting combined spectra with single/binary models is pretty fast. If you pass the fitting function to a Python multiprocessing Pool, you should be able to comfortably fit 10,000 targets in < 1 day on a single node of a typical cluster. \n",
    "\n",
    "On the other hand, fitting visit spectra can be fairly slow, because the models get more complicated and each additional visit adds (at least) one more free parameter. A small fraction of targets have 30+ visits, which means that the optimization for a complicated model can entail optimizing in a function of 100+ free parameters. In this case, a single target can keep your node working all day. \n",
    "\n",
    "Therefore, it makes sense to start out by fitting combined spectra. Afterward, you can switch to fitting visit spectra for targets where it makes sense to; i.e., targets that are RV variable or have combined spectra that appear to be binaries with significant velocity offsets. In cases where many visits need to be fit simultaneously, it can also help to first fit them individually (which is faster) and then use the velocities from this to initialize a good guess for simultaneous fitting. "
   ]
  },
  {
   "cell_type": "code",
   "execution_count": null,
   "metadata": {
    "collapsed": true
   },
   "outputs": [],
   "source": []
  }
 ],
 "metadata": {
  "anaconda-cloud": {},
  "kernelspec": {
   "display_name": "Python 3",
   "language": "python",
   "name": "python3"
  },
  "language_info": {
   "codemirror_mode": {
    "name": "ipython",
    "version": 3
   },
   "file_extension": ".py",
   "mimetype": "text/x-python",
   "name": "python",
   "nbconvert_exporter": "python",
   "pygments_lexer": "ipython3",
   "version": "3.6.2"
  }
 },
 "nbformat": 4,
 "nbformat_minor": 2
}
